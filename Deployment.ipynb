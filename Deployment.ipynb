{
  "nbformat": 4,
  "nbformat_minor": 0,
  "metadata": {
    "colab": {
      "provenance": []
    },
    "kernelspec": {
      "name": "python3",
      "display_name": "Python 3"
    },
    "language_info": {
      "name": "python"
    }
  },
  "cells": [
    {
      "cell_type": "markdown",
      "source": [
        "![applai.jpg](data:image/jpeg;base64,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)"
      ],
      "metadata": {
        "id": "Ewpnxm6ptNAq"
      }
    },
    {
      "cell_type": "markdown",
      "source": [
        "# **Introduction**"
      ],
      "metadata": {
        "id": "ZV-8Rux9uR0z"
      }
    },
    {
      "cell_type": "markdown",
      "source": [
        "##**Points to be discussed**\n",
        "\n",
        "\n",
        "1. What will we be using for deployment ?\n",
        "2. Loading your model\n",
        "3. Setting your page\n",
        "4. Running your app on a local host\n",
        "5. Running your app on a Global host "
      ],
      "metadata": {
        "id": "6CXGbrVyuS-o"
      }
    },
    {
      "cell_type": "markdown",
      "source": [
        "# **1.What will we be using for deployment ?**"
      ],
      "metadata": {
        "id": "B2YI2ST7vCom"
      }
    },
    {
      "cell_type": "markdown",
      "source": [
        "**We will be using streamlit for deployment it is free to use and we will be explaining all the steps needed to make your app live !**\n",
        "\n"
      ],
      "metadata": {
        "id": "xOfFp3cVvHfz"
      }
    },
    {
      "cell_type": "markdown",
      "source": [
        "![Streamlit](https://lh3.googleusercontent.com/-UU_-cM2FZnI/YLgc3z-EFCI/AAAAAAAAAuo/sORie7aJNgsM8UY7_qAUTZUSeSxKtA7UQCLcBGAsYHQ/s16000/streamlit_log.png)"
      ],
      "metadata": {
        "id": "qSnt7fpJvYGl"
      }
    },
    {
      "cell_type": "markdown",
      "source": [
        "**Note: We will have our deployment file as a python file not a notebook !**"
      ],
      "metadata": {
        "id": "kj0_TCQ_wLOo"
      }
    },
    {
      "cell_type": "markdown",
      "source": [
        "**You may need this cheat sheet that have all the functions streamlit provide !**\n",
        "\n",
        "[Streamlit's cheat sheet](https://docs.streamlit.io/library/cheatsheet)"
      ],
      "metadata": {
        "id": "dXATuHZ884pK"
      }
    },
    {
      "cell_type": "markdown",
      "source": [
        "# **2.Loading your model**\n"
      ],
      "metadata": {
        "id": "REMVlqViusx_"
      }
    },
    {
      "cell_type": "markdown",
      "source": [
        "## 2.1 Loading Model By Joblib\n"
      ],
      "metadata": {
        "id": "AfCbhYBcTELO"
      }
    },
    {
      "cell_type": "markdown",
      "source": [
        "### What is Joblib:\n",
        "joblib is a set of tools to provide lightweight pipelining in Python. It focuses on disk-caching, memoization, and parallel computing. The library is optimized to be fast and robust on large data in particular and has specific optimizations for NumPy arrays."
      ],
      "metadata": {
        "id": "h8i4fKIdTKLc"
      }
    },
    {
      "cell_type": "code",
      "source": [
        "import joblib\n",
        "joblibfile='My_file'\n",
        "joblib.dump(modelname,joblibfile)"
      ],
      "metadata": {
        "id": "muorC8u-F02i"
      },
      "execution_count": null,
      "outputs": []
    },
    {
      "cell_type": "markdown",
      "source": [
        "Here the Model named `modelname` will be saved in the file named `My file` "
      ],
      "metadata": {
        "id": "FoxxGwPwGGzH"
      }
    },
    {
      "cell_type": "code",
      "source": [
        "loaded_model = joblib.load(open(\"My_file\", 'rb'))"
      ],
      "metadata": {
        "id": "82OdeLzDF0tZ"
      },
      "execution_count": null,
      "outputs": []
    },
    {
      "cell_type": "markdown",
      "source": [
        "Loading the saved model from the file by `joblib.load()`"
      ],
      "metadata": {
        "id": "TlQ2SGT1LMrg"
      }
    },
    {
      "cell_type": "markdown",
      "source": [
        "## 2.2 Loading Model By Pickle\n"
      ],
      "metadata": {
        "id": "yoNY4Ht0OC9F"
      }
    },
    {
      "cell_type": "markdown",
      "source": [
        "###What is Pickle\n",
        "`pickle` is a module built-in in Python which allows for Python object serialization. “Pickling” is the process in which a Python object is converted into a byte stream, and “unpickling” is the inverse operation, whereby a byte stream is converted back into Python objects.\n",
        "\n",
        "The name comes from the verb “to pickle”, which means “preserving vegetables for later use”: in the same way, Python objects are serialized into files for later use."
      ],
      "metadata": {
        "id": "jaokEWIZTSTB"
      }
    },
    {
      "cell_type": "code",
      "source": [
        "import pickle"
      ],
      "metadata": {
        "id": "ZuFQXcOPQutY"
      },
      "execution_count": null,
      "outputs": []
    },
    {
      "cell_type": "code",
      "source": [
        "pickle.dump(model, open('My_file', 'wb'))"
      ],
      "metadata": {
        "id": "vVkxQi0ZFzvJ"
      },
      "execution_count": null,
      "outputs": []
    },
    {
      "cell_type": "code",
      "source": [
        "pickled_model = pickle.load(open('My_file', 'rb'))"
      ],
      "metadata": {
        "id": "wJLKdLYZNkqA"
      },
      "execution_count": null,
      "outputs": []
    },
    {
      "cell_type": "markdown",
      "source": [
        "### So, should I use pickle or joblib to save and load my machine learning models?"
      ],
      "metadata": {
        "id": "qbBB_EX0OnNQ"
      }
    },
    {
      "cell_type": "markdown",
      "source": [
        "`joblib` is faster in saving/loading large NumPy arrays,\n",
        "\n",
        " whereas `pickle` is faster with large collections of Python objects. Therefore, if your model contains large NumPy arrays\n",
        " \n",
        "(as the majority of models does), `joblib` should be faster."
      ],
      "metadata": {
        "id": "XG3EhePzO45V"
      }
    },
    {
      "cell_type": "markdown",
      "source": [
        "# **3.Setting your page**"
      ],
      "metadata": {
        "id": "XjeeLzulukCa"
      }
    },
    {
      "cell_type": "markdown",
      "source": [
        "##*3.1 Importing streamlit*"
      ],
      "metadata": {
        "id": "J0Qb75S5xO10"
      }
    },
    {
      "cell_type": "markdown",
      "source": [
        "**First we need to import streamlit as we will be using it as we said**"
      ],
      "metadata": {
        "id": "2DdaBK5BxiHz"
      }
    },
    {
      "cell_type": "markdown",
      "source": [
        "*Note first use `pip install streamlit` to install streamlit and `pip install streamlit_lottie` to install streamlit lottie*"
      ],
      "metadata": {
        "id": "v55yxmZ7yrXX"
      }
    },
    {
      "cell_type": "code",
      "execution_count": null,
      "metadata": {
        "id": "Jd45m9Y7sgn-"
      },
      "outputs": [],
      "source": [
        "import streamlit as st\n",
        "import requests\n",
        "from streamlit_lottie import st_lottie\n",
        "from PIL import Image"
      ]
    },
    {
      "cell_type": "markdown",
      "source": [
        "So what is each library from these for ?\n",
        "\n",
        "\n",
        "*   Streamlit is for creating our web page (app) and it contains all the functions to set buttons or text boxes and more as we will see.\n",
        "\n",
        "*   requests is for using urls to load anything into your app we will be using it later .\n",
        "\n",
        "*  streamlit_lottie is for lottie files if you don't know what are lottie files it is more like an animation and we will see that later too .\n",
        "\n",
        "*  Image is clear from it's name we use it to load photos into our app.\n",
        "\n"
      ],
      "metadata": {
        "id": "6WqR1Qmdz0r3"
      }
    },
    {
      "cell_type": "markdown",
      "source": [
        "## *3.2 Displaying text*"
      ],
      "metadata": {
        "id": "1Ipdyo5L1rb6"
      }
    },
    {
      "cell_type": "markdown",
      "source": [
        "Now after importing all our libraries let's add some text into our page we have many text formats but let's talk about the important ones you can **find the rest in the cheat sheet the link is provided in the first section.**"
      ],
      "metadata": {
        "id": "BRVnw7NJ10g8"
      }
    },
    {
      "cell_type": "code",
      "source": [
        "st.title(\"My first App\")"
      ],
      "metadata": {
        "id": "lpHaGoPr9H9-"
      },
      "execution_count": null,
      "outputs": []
    },
    {
      "cell_type": "markdown",
      "source": [
        "Title function is our very first thing that we will add to our web page and it clearly display the text that you gave to it as a title to your page"
      ],
      "metadata": {
        "id": "wOKqbG-a9RvG"
      }
    },
    {
      "cell_type": "code",
      "source": [
        "st.header('My header')"
      ],
      "metadata": {
        "id": "dykhktLT_R9f"
      },
      "execution_count": null,
      "outputs": []
    },
    {
      "cell_type": "markdown",
      "source": [
        "header function takes a string and display it as a header"
      ],
      "metadata": {
        "id": "ynV5-dnD9mdn"
      }
    },
    {
      "cell_type": "code",
      "source": [
        "st.subheader('My sub')"
      ],
      "metadata": {
        "id": "8JFrBAT9_dBt"
      },
      "execution_count": null,
      "outputs": []
    },
    {
      "cell_type": "markdown",
      "source": [
        "For subheader yes you guessed it right it displays the text as a subheader "
      ],
      "metadata": {
        "id": "D7fpEyMu_gFT"
      }
    },
    {
      "cell_type": "markdown",
      "source": [
        "**Here is an example to see the difference between headers,subheaders and titles on the web page !**"
      ],
      "metadata": {
        "id": "3xUxpwHZ_rBf"
      }
    },
    {
      "cell_type": "markdown",
      "source": [
        "![link text](https://i.ibb.co/VNPD53f/h-sh-t.png)"
      ],
      "metadata": {
        "id": "KRNL6djFASbU"
      }
    },
    {
      "cell_type": "code",
      "source": [
        "st.text('This is Applai')"
      ],
      "metadata": {
        "id": "QSdHNJOlBXwH"
      },
      "execution_count": null,
      "outputs": []
    },
    {
      "cell_type": "markdown",
      "source": [
        "text function displays text as it is just the normal size"
      ],
      "metadata": {
        "id": "DiKX5ks5BhyY"
      }
    },
    {
      "cell_type": "code",
      "source": [
        "st.latex(r''' e^{i\\pi} + 1 = 0 ''')"
      ],
      "metadata": {
        "id": "4sYV2q9BBdv_"
      },
      "execution_count": null,
      "outputs": []
    },
    {
      "cell_type": "markdown",
      "source": [
        "latex function is mainly used for formulas or equations"
      ],
      "metadata": {
        "id": "JCkNuG1rBneL"
      }
    },
    {
      "cell_type": "code",
      "source": [
        "st.code('for i in range(8): foo()')"
      ],
      "metadata": {
        "id": "zhnZAvVoBd2H"
      },
      "execution_count": null,
      "outputs": []
    },
    {
      "cell_type": "markdown",
      "source": [
        "finally code function is to display the given text as a block of code and here is how the 3 functions output looks like on our web page"
      ],
      "metadata": {
        "id": "xP8JIk4wBXQp"
      }
    },
    {
      "cell_type": "markdown",
      "source": [
        "![link text](https://i.ibb.co/TP30V6G/imageew.png)"
      ],
      "metadata": {
        "id": "8Tx4D4x9B6YZ"
      }
    },
    {
      "cell_type": "markdown",
      "source": [
        "**That's it for the text formats there are more functions that you can use as we said look into the cheat sheet for more functions !**"
      ],
      "metadata": {
        "id": "n1ZmTWNVCRpy"
      }
    },
    {
      "cell_type": "markdown",
      "source": [
        "## *3.3 Forms, columns, buttons and text boxes*"
      ],
      "metadata": {
        "id": "BVUkVGBZTsLT"
      }
    },
    {
      "cell_type": "markdown",
      "source": [
        "**The buttons, Text boxes are used inside a form shape and this form have columns we will talk about how to create a form and use the columns to put your buttons and text boxes !**"
      ],
      "metadata": {
        "id": "qffM_-UhT7w5"
      }
    },
    {
      "cell_type": "code",
      "source": [
        "with st.form(key=\"form1\"):\n",
        "    left_column,right_column = st.columns(2)\n",
        "    with right_column:\n",
        "        Name=st.text_input(label=\"Enter your name\")\n",
        "    with left_column:\n",
        "        submit=st.form_submit_button(label=\"Submit your name\")"
      ],
      "metadata": {
        "id": "gfYnaGbscdu6"
      },
      "execution_count": null,
      "outputs": []
    },
    {
      "cell_type": "markdown",
      "source": [
        "*  So `with` keyword indicates the place that you are working on ⁉\n",
        "\n",
        "*  to create a form we use `st.form` and we give the form a key or a name as in the example we created a form called `form1` and we used with to start designing it .\n",
        "\n",
        "*  `left_column,right_column = st.columns(2)` this piece of code is to create two columns a right one and a left one to put our buttons , text boxes or whatever in.\n",
        "\n",
        "*  then we used `with right_column:` to start putting something into our right column.\n",
        "\n",
        "* `st.text_input` is used to create a text box we assign it into a variable so that the value written in the text box will be asigned to that variable and we give it a label to be displayed above the text box so here `Name` is the variable that the text will be asigned to .\n",
        "\n",
        "* **Note: The value written in the text box is always a string so if you need it in mathmatical equation for example you will need type casting !**\n",
        "\n",
        "* then we used `with left_column:` to start putting stuff into our left column.\n",
        "\n",
        "* `st.form_submit_button` is used to create a button the variable here is a boolean it is equal to `1` if the button is pressed and equal to `0` if it is not and the function also has a label attribute and it is the label that will be displayed on the button.\n",
        "\n"
      ],
      "metadata": {
        "id": "ToZdvQXDZZ15"
      }
    },
    {
      "cell_type": "markdown",
      "source": [
        "**So here is the output for our code**"
      ],
      "metadata": {
        "id": "KRh0TSsIcfaR"
      }
    },
    {
      "cell_type": "markdown",
      "source": [
        "![Form](https://i.ibb.co/LvCrx4v/form.png)"
      ],
      "metadata": {
        "id": "SrcGckC_d8H2"
      }
    },
    {
      "cell_type": "markdown",
      "source": [
        "## *3.4 Side Bar*"
      ],
      "metadata": {
        "id": "swEz7xYqV6uf"
      }
    },
    {
      "cell_type": "markdown",
      "source": [
        "![image](https://docs.streamlit.io/images/api/sidebar.jpg)"
      ],
      "metadata": {
        "id": "4G5jg7X7XbAG"
      }
    },
    {
      "cell_type": "markdown",
      "source": [
        "- Sidebar is pinned to the left, allowing users to focus on the content in your app.\n",
        "- Can be used to add options menu \n",
        "- Splitting your page to Home and About"
      ],
      "metadata": {
        "id": "xhaT95poXbEK"
      }
    },
    {
      "cell_type": "markdown",
      "source": [
        "###*Add Option Menu to Sidebar*\n",
        "Let’s add a navigation menu to the sidebar using the `option_menu` function. Within the function, we need to specify a few parameters:\n",
        "\n",
        "- `menu_title` (required): This is the title of the menu (‘App Gallery’). We can also hide the title by passing None to this parameter.\n",
        "- `options` (required): This is the list of options to be displayed in the menu.\n",
        "- `default_index` (optional): This parameter determines the default option to be selected in the menu. The default is 0, which is the first item in the options list.\n",
        "- `menu_icon` and icons(optional): These are the names of the bootstrap-icons for the menu title and options in the menu. You can look up the names of the icons from bootstrap’s website."
      ],
      "metadata": {
        "id": "DSusj6W8Xa75"
      }
    },
    {
      "cell_type": "markdown",
      "source": [
        "![image](https://miro.medium.com/v2/resize:fit:1400/format:webp/1*trg6qWUNkxFs4mz7syd8Eg.png)"
      ],
      "metadata": {
        "id": "1K661gXFXa3U"
      }
    },
    {
      "cell_type": "markdown",
      "source": [
        "- `orientation` (optional): We can choose to display the menu vertically or horizontally using this parameter. The default is ‘vertical’.\n",
        "- `styles` (optional): This parameter allows you to customize the look and feel of the menu by adjusting the title size, icon color, icon font size, background color, etc."
      ],
      "metadata": {
        "id": "Cl4P9Bn4gcKu"
      }
    },
    {
      "cell_type": "code",
      "source": [
        "with st.sidebar:\n",
        "    choose = option_menu(\"App Gallery\", [\"About\", \"Photo Editing\", \"Project Planning\", \"Python e-Course\", \"Contact\"],\n",
        "                         icons=['house', 'camera fill', 'kanban', 'book','person lines fill'],\n",
        "                         menu_icon=\"app-indicator\", default_index=0,\n",
        "                         styles={\n",
        "        \"container\": {\"padding\": \"5!important\", \"background-color\": \"#fafafa\"},\n",
        "        \"icon\": {\"color\": \"orange\", \"font-size\": \"25px\"}, \n",
        "        \"nav-link\": {\"font-size\": \"16px\", \"text-align\": \"left\", \"margin\":\"0px\", \"--hover-color\": \"#eee\"},\n",
        "        \"nav-link-selected\": {\"background-color\": \"#02ab21\"},\n",
        "    }\n",
        "    )"
      ],
      "metadata": {
        "id": "PEqE0PSbgi2f"
      },
      "execution_count": null,
      "outputs": []
    },
    {
      "cell_type": "markdown",
      "source": [
        "![image](https://miro.medium.com/v2/resize:fit:640/format:webp/1*JhxsEUBNzTt2Gh_ba9nzsg.png)"
      ],
      "metadata": {
        "id": "4Dha1AF8gcHs"
      }
    },
    {
      "cell_type": "markdown",
      "source": [
        "###*Create App Pages*\n",
        "We’ll create a separate app page for each option in the menu By checking the value of the variable `choose`.\n",
        "\n",
        "We use if-elif statements to link each app page to the corresponding option in the menu."
      ],
      "metadata": {
        "id": "O1buQamSgcFJ"
      }
    },
    {
      "cell_type": "code",
      "source": [
        "if choose == \"About\": #now im editing the About page\n",
        "  #your page setting commands goes here"
      ],
      "metadata": {
        "id": "2mUHmixzhVGR"
      },
      "execution_count": null,
      "outputs": []
    },
    {
      "cell_type": "code",
      "source": [
        "elif choose == \"Photo Editing\": #now im editing the Photo Editing page\n",
        "  #your page setting commands goes here"
      ],
      "metadata": {
        "id": "9QTXpSsyhlSB"
      },
      "execution_count": null,
      "outputs": []
    },
    {
      "cell_type": "markdown",
      "source": [
        "And So on for other options...."
      ],
      "metadata": {
        "id": "WEsAUDlggcCk"
      }
    },
    {
      "cell_type": "markdown",
      "source": [
        "## *3.5 Images*\n",
        "\n"
      ],
      "metadata": {
        "id": "cYCaVYO5eOSF"
      }
    },
    {
      "cell_type": "markdown",
      "source": [
        "So we mentioned that we need to import `image` from `PIL` in order to put a picture into our web page so that's how we do it !"
      ],
      "metadata": {
        "id": "KPj_lgbQfAhw"
      }
    },
    {
      "cell_type": "code",
      "source": [
        "from PIL import Image\n",
        "image = Image.open('ApplAiOnly_Logo.png')\n",
        "st.image(image)  "
      ],
      "metadata": {
        "id": "QxqvAxXbfNLq"
      },
      "execution_count": null,
      "outputs": []
    },
    {
      "cell_type": "markdown",
      "source": [
        "So we simply assign the image that we want to a variable in this case it is `image` and we use `Image.open` in order to load the image from our device using it's name .\n",
        "\n",
        "**Note: The image needs to be in the same file as the python file in case of running the app on local host.**\n",
        "\n",
        "then we use `st.image` and we give it the variable that contains our image "
      ],
      "metadata": {
        "id": "r-T1TwrtfRrY"
      }
    },
    {
      "cell_type": "markdown",
      "source": [
        "**Here is the result !**"
      ],
      "metadata": {
        "id": "mE0uNURCgo6x"
      }
    },
    {
      "cell_type": "markdown",
      "source": [
        "![image](https://i.ibb.co/YcVVZRC/im.png)"
      ],
      "metadata": {
        "id": "l9eSe30bgx05"
      }
    },
    {
      "cell_type": "markdown",
      "source": [
        "## *3.6 Lottie files*"
      ],
      "metadata": {
        "id": "NNV4OV8ceSbe"
      }
    },
    {
      "cell_type": "markdown",
      "source": [
        "What about adding a lottie file and as we said it is a sort of animation and you can get many free lottie files urls from here : [Lottiefiles.com](https://lottiefiles.com/)"
      ],
      "metadata": {
        "id": "f9esgOqU8Ld7"
      }
    },
    {
      "cell_type": "code",
      "source": [
        "def load_lottie(url):\n",
        "    r = requests.get(url)\n",
        "    if r.status_code != 200:\n",
        "        return None\n",
        "    return r.json()"
      ],
      "metadata": {
        "id": "pnGKzJTm9u0b"
      },
      "execution_count": null,
      "outputs": []
    },
    {
      "cell_type": "markdown",
      "source": [
        "**So this is a function to load lottie files from the url and return it as a json file feel free to use it in your project !**\n",
        "\n",
        "So it takes the url and using get function from request library it assign the url component into a variable which is `r` in our example here and then it return `r.json()` if status code is equal too 200 which means sucess ."
      ],
      "metadata": {
        "id": "G5_wj1bF9z4j"
      }
    },
    {
      "cell_type": "code",
      "source": [
        "animation_header = load_lottie(\"https://assets3.lottiefiles.com/private_files/lf30_ssm93drs.json\")\n",
        "st_lottie(animation_header, speed=1, height=200, key=\"forth\")"
      ],
      "metadata": {
        "id": "aMCZwO2S-zXb"
      },
      "execution_count": null,
      "outputs": []
    },
    {
      "cell_type": "markdown",
      "source": [
        "we assigned what the function return into a variable that we will use in `st_lottie` and the variable here in our example is `animation_header` so `st_lottie` here takes the lottie files and `speed` takes the speed of the animation and `height` assign the height of the lottie file and `key` takes a key name for the lottie file and that's it your animation will now appear ! "
      ],
      "metadata": {
        "id": "c86yY0bW-8P5"
      }
    },
    {
      "cell_type": "markdown",
      "source": [
        "**Here is how it looks like on the web page !**"
      ],
      "metadata": {
        "id": "y8xhTxBbAM97"
      }
    },
    {
      "cell_type": "markdown",
      "source": [
        "![link text](https://i.ibb.co/60dRJVP/lottieee.png)"
      ],
      "metadata": {
        "id": "AHvREBiWASNB"
      }
    },
    {
      "cell_type": "markdown",
      "source": [
        "**Note:You can use html and css or any language or concept to design your page in parallel with streamlit functions**\n",
        "\n",
        "**This is not everything you can see many other functions in the cheat sheet provided above.**"
      ],
      "metadata": {
        "id": "JQgnJN4LCADI"
      }
    },
    {
      "cell_type": "markdown",
      "source": [
        "# **4.Running your app on a local host**"
      ],
      "metadata": {
        "id": "GNTWu4ElBsYG"
      }
    },
    {
      "cell_type": "markdown",
      "source": [
        "**So here are the steps to run the web page :**"
      ],
      "metadata": {
        "id": "DWicYuirCuCg"
      }
    },
    {
      "cell_type": "markdown",
      "source": [
        "1-In order to run the web page on local host we first need to create a new environment on anaconda navigator."
      ],
      "metadata": {
        "id": "InriZTmyDjvU"
      }
    },
    {
      "cell_type": "markdown",
      "source": [
        "![new env](https://i.ibb.co/sKhRP6N/newenv.png)"
      ],
      "metadata": {
        "id": "aUjPxzTlPZyL"
      }
    },
    {
      "cell_type": "markdown",
      "source": [
        "2-Then you open the terminal of your environment and use `pip install` to install all the packages used in your deployment python file ."
      ],
      "metadata": {
        "id": "xujO-bdJEQnv"
      }
    },
    {
      "cell_type": "markdown",
      "source": [
        "![terminal](https://i.ibb.co/ngswgRL/term.png)"
      ],
      "metadata": {
        "id": "Jg5cajGSPeSe"
      }
    },
    {
      "cell_type": "markdown",
      "source": [
        "3-use `cd` command to go to the path of the python file that you want to run."
      ],
      "metadata": {
        "id": "NI4ybCjTGWid"
      }
    },
    {
      "cell_type": "markdown",
      "source": [
        "4-after you are in the directory use streamlit run and type your filename.py and thats it it will be running !"
      ],
      "metadata": {
        "id": "t3HemLzmGzHF"
      }
    },
    {
      "cell_type": "markdown",
      "source": [
        "![link text](https://i.ibb.co/z8jbHCM/runn.png)"
      ],
      "metadata": {
        "id": "-3ZZ4NUXJHw4"
      }
    },
    {
      "cell_type": "markdown",
      "source": [
        "# **5.Running your app on a Global host**"
      ],
      "metadata": {
        "id": "ixjNbbXyZbtX"
      }
    },
    {
      "cell_type": "markdown",
      "source": [
        "**Running your app on a local host means that only you can use it on your device but what if we want other people to try it that's why we need global host if we want to , So here are the steps to do it:**"
      ],
      "metadata": {
        "id": "O84wOjbpZnoK"
      }
    },
    {
      "cell_type": "markdown",
      "source": [
        "1-Create a new repository on GitHub in which you will upload:\n",
        "\n",
        "*   Your python file that you used for deployment (What you want to run) .\n",
        "*   Any Image,video,model,sound or anything that you used which was on your device.\n",
        "\n",
        "* You then need to create a requirements.txt file that will contain all the libraries you used with ther versions if there are many versions for that package or library (**Note: You can use conda list on your environment to know the packages installed and their versions**) .\n",
        "\n",
        "**Here is how the requirments.txt file should look like on your repo**\n"
      ],
      "metadata": {
        "id": "tqKu4nfhaAZa"
      }
    },
    {
      "cell_type": "markdown",
      "source": [
        "![req.txt](https://i.ibb.co/R29VbCK/req.png)"
      ],
      "metadata": {
        "id": "kNnlS2NsbVE0"
      }
    },
    {
      "cell_type": "markdown",
      "source": [
        "2-Then you need to go to [Share.Streamlit.io](https://share.streamlit.io/) and sign in with the GitHub account that have the repo we created on our first step ."
      ],
      "metadata": {
        "id": "5KZJI0EScJnM"
      }
    },
    {
      "cell_type": "markdown",
      "source": [
        "![sign in](https://i.ibb.co/jGHfrrR/signin.png)"
      ],
      "metadata": {
        "id": "tXUFT1eiNn-i"
      }
    },
    {
      "cell_type": "markdown",
      "source": [
        "3-After signing in you will see **New App** button click on it choose your repo and the python file as the main path."
      ],
      "metadata": {
        "id": "dIQvxzXbczqw"
      }
    },
    {
      "cell_type": "markdown",
      "source": [
        "![new app](https://i.ibb.co/kJ2fjJK/newapp.png)"
      ],
      "metadata": {
        "id": "Sgp8gT20Nvoq"
      }
    },
    {
      "cell_type": "markdown",
      "source": [
        "4-Press **Deploy** and that's it wait for the loading to finish and your app is ready to be shared with the public !"
      ],
      "metadata": {
        "id": "qd9pVy5ddAhu"
      }
    },
    {
      "cell_type": "markdown",
      "source": [
        "![deploy](https://i.ibb.co/Y0fH93N/deply.png)"
      ],
      "metadata": {
        "id": "tKzAfiS7OBlW"
      }
    },
    {
      "cell_type": "markdown",
      "source": [
        "# **That's all about Deployment , Congrats your app is ready :)**"
      ],
      "metadata": {
        "id": "Yi40234MdPK4"
      }
    }
  ]
}